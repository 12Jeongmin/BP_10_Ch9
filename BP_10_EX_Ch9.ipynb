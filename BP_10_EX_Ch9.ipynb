{
  "nbformat": 4,
  "nbformat_minor": 0,
  "metadata": {
    "colab": {
      "provenance": [],
      "authorship_tag": "ABX9TyN91wLxsxSH9WF4r8n79mJl",
      "include_colab_link": true
    },
    "kernelspec": {
      "name": "python3",
      "display_name": "Python 3"
    },
    "language_info": {
      "name": "python"
    }
  },
  "cells": [
    {
      "cell_type": "markdown",
      "metadata": {
        "id": "view-in-github",
        "colab_type": "text"
      },
      "source": [
        "<a href=\"https://colab.research.google.com/github/12Jeongmin/BP_10_Ch9/blob/main/BP_10_EX_Ch9.ipynb\" target=\"_parent\"><img src=\"https://colab.research.google.com/assets/colab-badge.svg\" alt=\"Open In Colab\"/></a>"
      ]
    },
    {
      "cell_type": "code",
      "execution_count": null,
      "metadata": {
        "colab": {
          "base_uri": "https://localhost:8080/"
        },
        "id": "DEqtXgKfEyss",
        "outputId": "bb8b6fcf-bf5a-4861-d4c2-33e35f6b4177"
      },
      "outputs": [
        {
          "output_type": "stream",
          "name": "stdout",
          "text": [
            "정수를 입력하시오: 10\n",
            "정수를 입력하시오: 20\n",
            "정수를 입력하시오: 30\n",
            "정수를 입력하시오: 40\n",
            "정수를 입력하시오: 50\n",
            "평균= 30.0\n"
          ]
        }
      ],
      "source": [
        "alist = []\n",
        "sum = 0\n",
        "for i in range(5):         # 5개의 정수를 리스트에 넣음\n",
        "  i = int(input(\"정수를 입력하시오: \"))\n",
        "  alist.append(i)\n",
        "for i in alist:\n",
        "   sum += i\n",
        "   avg = sum/len(alist)    # 평균을 구한다.\n",
        "print(\"평균=\", avg)        # 평균을 출력한다."
      ]
    },
    {
      "cell_type": "code",
      "source": [
        "import random\n",
        "counters = [0, 0, 0, 0, 0, 0]   # 리스트 생성\n",
        "\n",
        "for i in range(1000):        # 반복문 1000번반복\n",
        "   value = random.randint(0, 5)  # 0~5까지 무작위 수 지정\n",
        "   counters[value] = counters[value] + 1 # 생성된 숫자를 카운트\n",
        "\n",
        "for i in range(6) :                 # 출력해준다.\n",
        "  print(\"주사위가 \", i+1, \"인 경우는 \", counters[i], \"번\")"
      ],
      "metadata": {
        "colab": {
          "base_uri": "https://localhost:8080/"
        },
        "id": "sPVU8RndFCO4",
        "outputId": "c6206734-15c2-4ee8-87d9-1b88c8f0d634"
      },
      "execution_count": null,
      "outputs": [
        {
          "output_type": "stream",
          "name": "stdout",
          "text": [
            "주사위가  1 인 경우는  139 번\n",
            "주사위가  2 인 경우는  164 번\n",
            "주사위가  3 인 경우는  189 번\n",
            "주사위가  4 인 경우는  172 번\n",
            "주사위가  5 인 경우는  180 번\n",
            "주사위가  6 인 경우는  156 번\n"
          ]
        }
      ]
    },
    {
      "cell_type": "code",
      "source": [
        "contacts = { }\n",
        "\n",
        "while True:\n",
        "  name = input(\"(입력모드)이름을 입력하시오: \")           #이름 입력\n",
        "  if not name:\n",
        "    break;\n",
        "  tel = input(\"전화번호를 입력하시오: \")                  #번호 입력\n",
        "  contacts[name] = tel                                    #딕셔너리에 이름과 번호를 저장해줌\n",
        "\n",
        "while True:\n",
        "  name = input(\"(검색모드)이름을 입력하시오: \")           #이름 입력\n",
        "  if not name:\n",
        "    break;\n",
        "  if name in contacts :\n",
        "    print(name,\"의 전화번호는\", contacts[name],\"입니다.\")  #딕셔너리에 저장한 이름과 번호를 출력 \n",
        "  else:\n",
        "    print(\"저장이 안 되어있는 전화번호 입니다.\")                # 딕셔너리에 저장되어있지 않은 이름을 입력했을 경우"
      ],
      "metadata": {
        "id": "cY28dq5aM-yr",
        "outputId": "907848e7-170c-4169-ee8e-0ed63b9b7fc6",
        "colab": {
          "base_uri": "https://localhost:8080/"
        }
      },
      "execution_count": 41,
      "outputs": [
        {
          "name": "stdout",
          "output_type": "stream",
          "text": [
            "(입력모드)이름을 입력하시오: 홍길동\n",
            "전화번호를 입력하시오: 111-2222\n",
            "(입력모드)이름을 입력하시오: 김철수\n",
            "전화번호를 입력하시오: 222-3333\n",
            "(입력모드)이름을 입력하시오: \n",
            "(검색모드)이름을 입력하시오: 홍길동\n",
            "홍길동 의 전화번호는 111-2222 입니다.\n",
            "(검색모드)이름을 입력하시오: 윤정민\n",
            "저장이 안 되어있는 전화번호 입니다.\n",
            "(검색모드)이름을 입력하시오: \n"
          ]
        }
      ]
    },
    {
      "cell_type": "code",
      "source": [
        "domains = { \"kr\": \"대한민국\", \"us\": \"미국\",\"jp\": \"일본\", \"de\": \"독일\", \"sk\": \"슬로바키아\", \"hu\": \"헝가리\", \"no\": \"노르웨이\" }\n",
        "# 10개의 딕셔너리 값을 저장\n",
        "for k, v in domains.items(): # 도메인 주소와 해당하는 주소를 사용하는 나라의 값을 출력\n",
        "  print (k, \": \", v)\n"
      ],
      "metadata": {
        "colab": {
          "base_uri": "https://localhost:8080/"
        },
        "id": "XsoCN6MgJp6b",
        "outputId": "00f5ef43-77b6-4ec1-e1a1-b1c1bad3099e"
      },
      "execution_count": null,
      "outputs": [
        {
          "output_type": "stream",
          "name": "stdout",
          "text": [
            "kr :  대한민국\n",
            "us :  미국\n",
            "jp :  일본\n",
            "de :  독일\n",
            "sk :  슬로바키아\n",
            "hu :  헝가리\n",
            "no :  노르웨이\n"
          ]
        }
      ]
    },
    {
      "cell_type": "code",
      "source": [
        "problems = {'파이썬': '최근에 가장 떠오르는 프로그래밍 언어', \n",
        "'변수': '데이터를 저장하는 메모리 공간', \n",
        "'함수': '작업을 수행하는 문장들의 집합에 이릅을 붙인것', \n",
        "'리스트': '서로 관련이 없는 항목들의 모임', }     # 문제를 설정함\n",
        "\n",
        "def show_words(problems):                # 변수에 지정해놓은 문제를 불러온다\n",
        "  display_message = \"\"\n",
        "  i=1\n",
        "  for word in problems.keys():\n",
        "    display_message += \"(\"+str(i)+\")\"\n",
        "    display_message += word +\" \"\n",
        "    i+=1\n",
        "  print( display_message)\n",
        "  \n",
        "for meaning in problems.values():       # 변수를 이용해 문제의 형태를 만들어 낸다\n",
        "  print(\"다음은 어떤 단어에 대한 설명일까요? \")\n",
        "  print(\"/\"+meaning+\"/\")\n",
        "  correct = False\n",
        "  while not correct:\n",
        "    show_words(problems)\n",
        "    guessed_word = input(\"\")\n",
        "    if problems[guessed_word] == meaning:\n",
        "      print(\"정답입니다. !\")            # 문제를 모두 맞혔을 경우\n",
        "      correct = True\n",
        "    else:\n",
        "      print(\"정답이 아닙니다.\")         # 문제를 틀렸을 경우"
      ],
      "metadata": {
        "colab": {
          "base_uri": "https://localhost:8080/"
        },
        "id": "hEDyMMcnQX37",
        "outputId": "5135552e-6607-4b42-e91a-62395e59e508"
      },
      "execution_count": 38,
      "outputs": [
        {
          "output_type": "stream",
          "name": "stdout",
          "text": [
            "다음은 어떤 단어에 대한 설명일까요? \n",
            "/최근에 가장 떠오르는 프로그래밍 언어/\n",
            "(1)파이썬 (2)변수 (3)함수 (4)리스트 \n",
            "파이썬\n",
            "정답입니다. !\n",
            "다음은 어떤 단어에 대한 설명일까요? \n",
            "/데이터를 저장하는 메모리 공간/\n",
            "(1)파이썬 (2)변수 (3)함수 (4)리스트 \n",
            "변수\n",
            "정답입니다. !\n",
            "다음은 어떤 단어에 대한 설명일까요? \n",
            "/작업을 수행하는 문장들의 집합에 이릅을 붙인것/\n",
            "(1)파이썬 (2)변수 (3)함수 (4)리스트 \n",
            "함수\n",
            "정답입니다. !\n",
            "다음은 어떤 단어에 대한 설명일까요? \n",
            "/서로 관련이 없는 항목들의 모임/\n",
            "(1)파이썬 (2)변수 (3)함수 (4)리스트 \n",
            "리스트\n",
            "정답입니다. !\n"
          ]
        }
      ]
    }
  ]
}